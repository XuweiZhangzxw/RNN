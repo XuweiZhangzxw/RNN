{
 "cells": [
  {
   "cell_type": "code",
   "execution_count": 1,
   "id": "2a946e43",
   "metadata": {},
   "outputs": [],
   "source": [
    "import pandas as pd\n",
    "import numpy as np\n",
    "import matplotlib.pyplot as plt\n",
    "import tensorflow as tf\n",
    "from sklearn.preprocessing import MinMaxScaler\n",
    "from sklearn.model_selection import train_test_split\n",
    "from tensorflow.keras.layers import Dropout, Dense, SimpleRNN,Activation\n",
    "from keras.models import Sequential\n",
    "from keras.layers import GRU, LSTM\n",
    "from keras.optimizers import SGD\n",
    "from sklearn.metrics import mean_squared_error, mean_absolute_error\n",
    "from keras.models import Sequential\n",
    "from keras.layers import Dense\n",
    "from keras.layers import SimpleRNN\n",
    "from keras.layers import Dropout\n",
    "import warnings\n",
    "warnings.filterwarnings(\"ignore\")"
   ]
  },
  {
   "cell_type": "code",
   "execution_count": 2,
   "id": "a71fe788",
   "metadata": {},
   "outputs": [
    {
     "data": {
      "text/html": [
       "<div>\n",
       "<style scoped>\n",
       "    .dataframe tbody tr th:only-of-type {\n",
       "        vertical-align: middle;\n",
       "    }\n",
       "\n",
       "    .dataframe tbody tr th {\n",
       "        vertical-align: top;\n",
       "    }\n",
       "\n",
       "    .dataframe thead th {\n",
       "        text-align: right;\n",
       "    }\n",
       "</style>\n",
       "<table border=\"1\" class=\"dataframe\">\n",
       "  <thead>\n",
       "    <tr style=\"text-align: right;\">\n",
       "      <th></th>\n",
       "      <th>Open</th>\n",
       "      <th>High</th>\n",
       "      <th>Low</th>\n",
       "      <th>Close</th>\n",
       "      <th>Adj Close</th>\n",
       "      <th>Volume</th>\n",
       "    </tr>\n",
       "  </thead>\n",
       "  <tbody>\n",
       "    <tr>\n",
       "      <th>count</th>\n",
       "      <td>5124.000000</td>\n",
       "      <td>5124.000000</td>\n",
       "      <td>5124.000000</td>\n",
       "      <td>5124.000000</td>\n",
       "      <td>5124.000000</td>\n",
       "      <td>5.124000e+03</td>\n",
       "    </tr>\n",
       "    <tr>\n",
       "      <th>mean</th>\n",
       "      <td>34.090255</td>\n",
       "      <td>34.560553</td>\n",
       "      <td>33.629467</td>\n",
       "      <td>34.106245</td>\n",
       "      <td>31.778674</td>\n",
       "      <td>3.693250e+06</td>\n",
       "    </tr>\n",
       "    <tr>\n",
       "      <th>std</th>\n",
       "      <td>18.608831</td>\n",
       "      <td>18.834528</td>\n",
       "      <td>18.381718</td>\n",
       "      <td>18.611595</td>\n",
       "      <td>18.730529</td>\n",
       "      <td>2.481855e+06</td>\n",
       "    </tr>\n",
       "    <tr>\n",
       "      <th>min</th>\n",
       "      <td>7.653791</td>\n",
       "      <td>7.961373</td>\n",
       "      <td>7.510730</td>\n",
       "      <td>7.761087</td>\n",
       "      <td>6.674886</td>\n",
       "      <td>2.719000e+05</td>\n",
       "    </tr>\n",
       "    <tr>\n",
       "      <th>25%</th>\n",
       "      <td>21.101574</td>\n",
       "      <td>21.452074</td>\n",
       "      <td>20.785050</td>\n",
       "      <td>21.130186</td>\n",
       "      <td>18.790381</td>\n",
       "      <td>2.206475e+06</td>\n",
       "    </tr>\n",
       "    <tr>\n",
       "      <th>50%</th>\n",
       "      <td>27.328326</td>\n",
       "      <td>27.703863</td>\n",
       "      <td>27.010015</td>\n",
       "      <td>27.396280</td>\n",
       "      <td>24.714866</td>\n",
       "      <td>3.174050e+06</td>\n",
       "    </tr>\n",
       "    <tr>\n",
       "      <th>75%</th>\n",
       "      <td>41.500000</td>\n",
       "      <td>41.860001</td>\n",
       "      <td>41.130001</td>\n",
       "      <td>41.525204</td>\n",
       "      <td>39.203083</td>\n",
       "      <td>4.508075e+06</td>\n",
       "    </tr>\n",
       "    <tr>\n",
       "      <th>max</th>\n",
       "      <td>111.587982</td>\n",
       "      <td>115.879829</td>\n",
       "      <td>103.719597</td>\n",
       "      <td>113.733902</td>\n",
       "      <td>97.816307</td>\n",
       "      <td>6.254630e+07</td>\n",
       "    </tr>\n",
       "  </tbody>\n",
       "</table>\n",
       "</div>"
      ],
      "text/plain": [
       "              Open         High          Low        Close    Adj Close  \\\n",
       "count  5124.000000  5124.000000  5124.000000  5124.000000  5124.000000   \n",
       "mean     34.090255    34.560553    33.629467    34.106245    31.778674   \n",
       "std      18.608831    18.834528    18.381718    18.611595    18.730529   \n",
       "min       7.653791     7.961373     7.510730     7.761087     6.674886   \n",
       "25%      21.101574    21.452074    20.785050    21.130186    18.790381   \n",
       "50%      27.328326    27.703863    27.010015    27.396280    24.714866   \n",
       "75%      41.500000    41.860001    41.130001    41.525204    39.203083   \n",
       "max     111.587982   115.879829   103.719597   113.733902    97.816307   \n",
       "\n",
       "             Volume  \n",
       "count  5.124000e+03  \n",
       "mean   3.693250e+06  \n",
       "std    2.481855e+06  \n",
       "min    2.719000e+05  \n",
       "25%    2.206475e+06  \n",
       "50%    3.174050e+06  \n",
       "75%    4.508075e+06  \n",
       "max    6.254630e+07  "
      ]
     },
     "execution_count": 2,
     "metadata": {},
     "output_type": "execute_result"
    }
   ],
   "source": [
    "#read csv\n",
    "data = pd.read_csv('D:/Project/Deep Learning/AS2/archive/stocks\\A.csv',parse_dates=['Date'],index_col='Date')\n",
    "data.describe()"
   ]
  },
  {
   "cell_type": "code",
   "execution_count": 3,
   "id": "b717dccc",
   "metadata": {},
   "outputs": [
    {
     "data": {
      "text/html": [
       "<div>\n",
       "<style scoped>\n",
       "    .dataframe tbody tr th:only-of-type {\n",
       "        vertical-align: middle;\n",
       "    }\n",
       "\n",
       "    .dataframe tbody tr th {\n",
       "        vertical-align: top;\n",
       "    }\n",
       "\n",
       "    .dataframe thead th {\n",
       "        text-align: right;\n",
       "    }\n",
       "</style>\n",
       "<table border=\"1\" class=\"dataframe\">\n",
       "  <thead>\n",
       "    <tr style=\"text-align: right;\">\n",
       "      <th></th>\n",
       "      <th>Open</th>\n",
       "      <th>High</th>\n",
       "      <th>Low</th>\n",
       "      <th>Close</th>\n",
       "      <th>Adj Close</th>\n",
       "      <th>Volume</th>\n",
       "    </tr>\n",
       "    <tr>\n",
       "      <th>Date</th>\n",
       "      <th></th>\n",
       "      <th></th>\n",
       "      <th></th>\n",
       "      <th></th>\n",
       "      <th></th>\n",
       "      <th></th>\n",
       "    </tr>\n",
       "  </thead>\n",
       "  <tbody>\n",
       "    <tr>\n",
       "      <th>1999-11-18</th>\n",
       "      <td>32.546494</td>\n",
       "      <td>35.765381</td>\n",
       "      <td>28.612303</td>\n",
       "      <td>31.473534</td>\n",
       "      <td>27.068665</td>\n",
       "      <td>62546300</td>\n",
       "    </tr>\n",
       "    <tr>\n",
       "      <th>1999-11-19</th>\n",
       "      <td>30.713520</td>\n",
       "      <td>30.758226</td>\n",
       "      <td>28.478184</td>\n",
       "      <td>28.880543</td>\n",
       "      <td>24.838577</td>\n",
       "      <td>15234100</td>\n",
       "    </tr>\n",
       "    <tr>\n",
       "      <th>1999-11-22</th>\n",
       "      <td>29.551144</td>\n",
       "      <td>31.473534</td>\n",
       "      <td>28.657009</td>\n",
       "      <td>31.473534</td>\n",
       "      <td>27.068665</td>\n",
       "      <td>6577800</td>\n",
       "    </tr>\n",
       "    <tr>\n",
       "      <th>1999-11-23</th>\n",
       "      <td>30.400572</td>\n",
       "      <td>31.205294</td>\n",
       "      <td>28.612303</td>\n",
       "      <td>28.612303</td>\n",
       "      <td>24.607880</td>\n",
       "      <td>5975600</td>\n",
       "    </tr>\n",
       "    <tr>\n",
       "      <th>1999-11-24</th>\n",
       "      <td>28.701717</td>\n",
       "      <td>29.998211</td>\n",
       "      <td>28.612303</td>\n",
       "      <td>29.372318</td>\n",
       "      <td>25.261524</td>\n",
       "      <td>4843200</td>\n",
       "    </tr>\n",
       "  </tbody>\n",
       "</table>\n",
       "</div>"
      ],
      "text/plain": [
       "                 Open       High        Low      Close  Adj Close    Volume\n",
       "Date                                                                       \n",
       "1999-11-18  32.546494  35.765381  28.612303  31.473534  27.068665  62546300\n",
       "1999-11-19  30.713520  30.758226  28.478184  28.880543  24.838577  15234100\n",
       "1999-11-22  29.551144  31.473534  28.657009  31.473534  27.068665   6577800\n",
       "1999-11-23  30.400572  31.205294  28.612303  28.612303  24.607880   5975600\n",
       "1999-11-24  28.701717  29.998211  28.612303  29.372318  25.261524   4843200"
      ]
     },
     "execution_count": 3,
     "metadata": {},
     "output_type": "execute_result"
    }
   ],
   "source": [
    "data.head()"
   ]
  },
  {
   "cell_type": "markdown",
   "id": "70afe530",
   "metadata": {},
   "source": [
    "# Data Visualization"
   ]
  },
  {
   "cell_type": "code",
   "execution_count": 4,
   "id": "e48e1e30",
   "metadata": {},
   "outputs": [
    {
     "data": {
      "image/png": "[encoded data removed]",
      "text/plain": [
       "<Figure size 1080x360 with 2 Axes>"
      ]
     },
     "metadata": {
      "needs_background": "light"
     },
     "output_type": "display_data"
    }
   ],
   "source": [
    "df=data\n",
    "plt.figure(figsize=(15, 5));\n",
    "plt.subplot(1,2,1);\n",
    "plt.plot(data[\"Open\"].values, color='red', label='open')\n",
    "plt.plot(data[\"Close\"].values, color='green', label='close')\n",
    "plt.plot(data[\"Low\"].values, color='blue', label='low')\n",
    "plt.plot(data[\"High\"].values, color='black', label='high')\n",
    "plt.title('Stock price')\n",
    "plt.xlabel('Days')\n",
    "plt.ylabel('price')\n",
    "plt.legend(loc='best')\n",
    "#plt.show()\n",
    "\n",
    "plt.subplot(1,2,2);\n",
    "plt.plot(data[\"Volume\"].values, color='black', label='volume')\n",
    "plt.title('Stock volume')\n",
    "plt.xlabel('Days')\n",
    "plt.ylabel('volume')\n",
    "plt.legend(loc='best');"
   ]
  },
  {
   "cell_type": "markdown",
   "id": "448e031f",
   "metadata": {},
   "source": [
    "# Data Preprocessing"
   ]
  },
  {
   "cell_type": "code",
   "execution_count": 5,
   "id": "da809a0b",
   "metadata": {},
   "outputs": [],
   "source": [
    "#split data\n",
    "train_set = data[:'2017'].iloc[:,1:2].values\n",
    "test_set = data['2018':].iloc[:,1:2].values"
   ]
  },
  {
   "cell_type": "code",
   "execution_count": 6,
   "id": "1c455d80",
   "metadata": {},
   "outputs": [
    {
     "name": "stdout",
     "output_type": "stream",
     "text": [
      "4558\n",
      "566\n"
     ]
    }
   ],
   "source": [
    "print(len(train_set))\n",
    "print(len(test_set))"
   ]
  },
  {
   "cell_type": "code",
   "execution_count": 41,
   "id": "7a5c761c",
   "metadata": {},
   "outputs": [
    {
     "data": {
      "image/png": "[encoded data removed]",
      "text/plain": [
       "<Figure size 576x288 with 1 Axes>"
      ]
     },
     "metadata": {
      "needs_background": "light"
     },
     "output_type": "display_data"
    }
   ],
   "source": [
    "data[\"High\"][:'2017'].plot(figsize=(8,4),legend=True)\n",
    "data[\"High\"]['2018':].plot(figsize=(8,4),legend=True)\n",
    "plt.legend(['Train set (Before 2017)','Test set (After 2018)'])\n",
    "plt.title('Stock price')\n",
    "plt.show()"
   ]
  },
  {
   "cell_type": "code",
   "execution_count": 8,
   "id": "d8c890f9",
   "metadata": {},
   "outputs": [],
   "source": [
    "# Scaling the data set\n",
    "sc = MinMaxScaler(feature_range=(0, 1))  \n",
    "train_set_scaled = sc.fit_transform(train_set) \n",
    "test_set=sc.transform(test_set)"
   ]
  },
  {
   "cell_type": "code",
   "execution_count": 9,
   "id": "5f96ac8f",
   "metadata": {},
   "outputs": [],
   "source": [
    "X_train = []\n",
    "y_train = [] \n",
    "X_test = []\n",
    "y_test = []"
   ]
  },
  {
   "cell_type": "code",
   "execution_count": 10,
   "id": "0c85a2c2",
   "metadata": {},
   "outputs": [],
   "source": [
    "#create a data structure with 60 timesteps and 1 output\n",
    "for i in range(60, len(train_set_scaled)):\n",
    "    X_train.append(train_set_scaled[i - 60:i, 0])\n",
    "    y_train.append(train_set_scaled[i, 0])\n",
    "X_train, y_train = np.array(X_train), np.array(y_train)\n"
   ]
  },
  {
   "cell_type": "code",
   "execution_count": 11,
   "id": "b959adfe",
   "metadata": {},
   "outputs": [],
   "source": [
    "np.random.seed(1)\n",
    "np.random.shuffle(X_train)\n",
    "np.random.seed(1)\n",
    "np.random.shuffle(y_train)\n",
    "tf.random.set_seed(1)"
   ]
  },
  {
   "cell_type": "code",
   "execution_count": 12,
   "id": "51da4159",
   "metadata": {},
   "outputs": [],
   "source": [
    "#reshape data\n",
    "X_train = np.reshape(X_train, (X_train.shape[0], 60, 1))"
   ]
  },
  {
   "cell_type": "code",
   "execution_count": 13,
   "id": "78b60a67",
   "metadata": {},
   "outputs": [
    {
     "data": {
      "text/plain": [
       "(4498, 60, 1)"
      ]
     },
     "execution_count": 13,
     "metadata": {},
     "output_type": "execute_result"
    }
   ],
   "source": [
    "X_train.shape"
   ]
  },
  {
   "cell_type": "code",
   "execution_count": 40,
   "id": "42207f15",
   "metadata": {},
   "outputs": [
    {
     "name": "stdout",
     "output_type": "stream",
     "text": [
      "[[[0.2506131 ]\n",
      "  [0.24703388]\n",
      "  [0.25690992]\n",
      "  ...\n",
      "  [0.17849805]\n",
      "  [0.173792  ]\n",
      "  [0.15874595]]\n",
      "\n",
      " [[0.15324451]\n",
      "  [0.14999669]\n",
      "  [0.15543183]\n",
      "  ...\n",
      "  [0.18174588]\n",
      "  [0.18141445]\n",
      "  [0.17810035]]\n",
      "\n",
      " [[0.56916549]\n",
      "  [0.56170877]\n",
      "  [0.57165109]\n",
      "  ...\n",
      "  [0.45441438]\n",
      "  [0.45234306]\n",
      "  [0.57579373]]\n",
      "\n",
      " ...\n",
      "\n",
      " [[0.05720156]\n",
      "  [0.05819579]\n",
      "  [0.06104594]\n",
      "  ...\n",
      "  [0.09252999]\n",
      "  [0.08981242]\n",
      "  [0.0898787 ]]\n",
      "\n",
      " [[0.26787471]\n",
      "  [0.26898669]\n",
      "  [0.26185167]\n",
      "  ...\n",
      "  [0.30707097]\n",
      "  [0.3087389 ]\n",
      "  [0.31355736]]\n",
      "\n",
      " [[0.26592432]\n",
      "  [0.22656924]\n",
      "  [0.22159807]\n",
      "  ...\n",
      "  [0.34504871]\n",
      "  [0.37694703]\n",
      "  [0.37363291]]]\n"
     ]
    }
   ],
   "source": [
    "print(X_train)"
   ]
  },
  {
   "cell_type": "code",
   "execution_count": 23,
   "id": "122c5014",
   "metadata": {},
   "outputs": [],
   "source": [
    "dataset_total = pd.concat((data[\"High\"][:'2017'],data[\"High\"]['2018':]),axis=0)\n",
    "inputs = dataset_total[len(dataset_total)-len(test_set) - 60:].values\n",
    "inputs = inputs.reshape(-1,1)\n",
    "inputs  = sc.transform(inputs)"
   ]
  },
  {
   "cell_type": "code",
   "execution_count": 24,
   "id": "e393d756",
   "metadata": {},
   "outputs": [],
   "source": [
    "X_test = []\n",
    "y_test = []\n",
    "for i in range(60, len(test_set)):\n",
    "    X_test.append(test_set[i - 60:i, 0])\n",
    "    y_test.append(test_set[i, 0])\n",
    "X_test, y_test = np.array(X_test), np.array(y_test)\n",
    "X_test = np.reshape(X_test, (X_test.shape[0], 60, 1))    \n"
   ]
  },
  {
   "cell_type": "code",
   "execution_count": 25,
   "id": "e349ddee",
   "metadata": {},
   "outputs": [
    {
     "data": {
      "text/plain": [
       "(506, 60, 1)"
      ]
     },
     "execution_count": 25,
     "metadata": {},
     "output_type": "execute_result"
    }
   ],
   "source": [
    "X_test.shape"
   ]
  },
  {
   "cell_type": "markdown",
   "id": "a139bd42",
   "metadata": {},
   "source": [
    "# Another RNN"
   ]
  },
  {
   "cell_type": "code",
   "execution_count": 46,
   "id": "98f876f0",
   "metadata": {},
   "outputs": [],
   "source": [
    "RNN_model2 = Sequential()\n",
    "#First layer\n",
    "RNN_model2.add(SimpleRNN(units=50,activation='tanh',return_sequences=True,input_shape=(X_train.shape[1],1)))\n",
    "RNN_model2.add(Dropout(0.2))\n",
    "#Second layer\n",
    "RNN_model2.add(SimpleRNN(units=50,activation='tanh', return_sequences=True))\n",
    "RNN_model2.add(Dropout(0.2))\n",
    "#Third layer\n",
    "RNN_model2.add(SimpleRNN(units=50 ,activation='tanh',return_sequences=True))\n",
    "RNN_model2.add(Dropout(0.2))\n",
    "#Third layer\n",
    "RNN_model2.add(SimpleRNN(units=50 ,activation='tanh',return_sequences=True))\n",
    "RNN_model2.add(Dropout(0.2))\n",
    "#Fourth layer\n",
    "RNN_model2.add(SimpleRNN(units=100))\n",
    "RNN_model2.add(Dropout(0.2))\n",
    "#Output layer\n",
    "RNN_model2.add(Dense(units=1))#Since the output value is the opening price of the 61st day, there is only one number, so Dense is 1"
   ]
  },
  {
   "cell_type": "code",
   "execution_count": 47,
   "id": "aea2d1b4",
   "metadata": {},
   "outputs": [
    {
     "name": "stdout",
     "output_type": "stream",
     "text": [
      "Model: \"sequential_5\"\n",
      "_________________________________________________________________\n",
      " Layer (type)                Output Shape              Param #   \n",
      "=================================================================\n",
      " simple_rnn_14 (SimpleRNN)   (None, 60, 50)            2600      \n",
      "                                                                 \n",
      " dropout_11 (Dropout)        (None, 60, 50)            0         \n",
      "                                                                 \n",
      " simple_rnn_15 (SimpleRNN)   (None, 60, 50)            5050      \n",
      "                                                                 \n",
      " dropout_12 (Dropout)        (None, 60, 50)            0         \n",
      "                                                                 \n",
      " simple_rnn_16 (SimpleRNN)   (None, 60, 50)            5050      \n",
      "                                                                 \n",
      " dropout_13 (Dropout)        (None, 60, 50)            0         \n",
      "                                                                 \n",
      " simple_rnn_17 (SimpleRNN)   (None, 60, 50)            5050      \n",
      "                                                                 \n",
      " dropout_14 (Dropout)        (None, 60, 50)            0         \n",
      "                                                                 \n",
      " simple_rnn_18 (SimpleRNN)   (None, 100)               15100     \n",
      "                                                                 \n",
      " dropout_15 (Dropout)        (None, 100)               0         \n",
      "                                                                 \n",
      " dense_2 (Dense)             (None, 1)                 101       \n",
      "                                                                 \n",
      "=================================================================\n",
      "Total params: 32,951\n",
      "Trainable params: 32,951\n",
      "Non-trainable params: 0\n",
      "_________________________________________________________________\n"
     ]
    }
   ],
   "source": [
    "RNN_model2.summary()"
   ]
  },
  {
   "cell_type": "code",
   "execution_count": 48,
   "id": "27ed306e",
   "metadata": {},
   "outputs": [
    {
     "name": "stdout",
     "output_type": "stream",
     "text": [
      "Epoch 1/50\n",
      "141/141 [==============================] - 5s 23ms/step - loss: 0.2307\n",
      "Epoch 2/50\n",
      "141/141 [==============================] - 3s 23ms/step - loss: 0.0898\n",
      "Epoch 3/50\n",
      "141/141 [==============================] - 3s 23ms/step - loss: 0.0532\n",
      "Epoch 4/50\n",
      "141/141 [==============================] - 3s 23ms/step - loss: 0.0340\n",
      "Epoch 5/50\n",
      "141/141 [==============================] - 3s 23ms/step - loss: 0.0214\n",
      "Epoch 6/50\n",
      "141/141 [==============================] - 3s 23ms/step - loss: 0.0136\n",
      "Epoch 7/50\n",
      "141/141 [==============================] - 3s 24ms/step - loss: 0.0092\n",
      "Epoch 8/50\n",
      "141/141 [==============================] - 3s 24ms/step - loss: 0.0064\n",
      "Epoch 9/50\n",
      "141/141 [==============================] - 3s 24ms/step - loss: 0.0047\n",
      "Epoch 10/50\n",
      "141/141 [==============================] - 4s 25ms/step - loss: 0.0036\n",
      "Epoch 11/50\n",
      "141/141 [==============================] - 4s 25ms/step - loss: 0.0029\n",
      "Epoch 12/50\n",
      "141/141 [==============================] - 3s 24ms/step - loss: 0.0022\n",
      "Epoch 13/50\n",
      "141/141 [==============================] - 3s 25ms/step - loss: 0.0021\n",
      "Epoch 14/50\n",
      "141/141 [==============================] - 3s 25ms/step - loss: 0.0018\n",
      "Epoch 15/50\n",
      "141/141 [==============================] - 4s 25ms/step - loss: 0.0015\n",
      "Epoch 16/50\n",
      "141/141 [==============================] - 3s 25ms/step - loss: 0.0014\n",
      "Epoch 17/50\n",
      "141/141 [==============================] - 3s 24ms/step - loss: 0.0014\n",
      "Epoch 18/50\n",
      "141/141 [==============================] - 3s 24ms/step - loss: 0.0011\n",
      "Epoch 19/50\n",
      "141/141 [==============================] - 3s 24ms/step - loss: 0.0011\n",
      "Epoch 20/50\n",
      "141/141 [==============================] - 3s 24ms/step - loss: 0.0010\n",
      "Epoch 21/50\n",
      "141/141 [==============================] - 3s 24ms/step - loss: 0.0010\n",
      "Epoch 22/50\n",
      "141/141 [==============================] - 3s 24ms/step - loss: 9.9415e-04\n",
      "Epoch 23/50\n",
      "141/141 [==============================] - 3s 24ms/step - loss: 8.9451e-04\n",
      "Epoch 24/50\n",
      "141/141 [==============================] - 3s 24ms/step - loss: 9.3467e-04\n",
      "Epoch 25/50\n",
      "141/141 [==============================] - 3s 24ms/step - loss: 9.5100e-04\n",
      "Epoch 26/50\n",
      "141/141 [==============================] - 3s 24ms/step - loss: 9.4928e-04\n",
      "Epoch 27/50\n",
      "141/141 [==============================] - 4s 26ms/step - loss: 9.4359e-04\n",
      "Epoch 28/50\n",
      "141/141 [==============================] - 3s 25ms/step - loss: 7.9081e-04\n",
      "Epoch 29/50\n",
      "141/141 [==============================] - 4s 28ms/step - loss: 7.4746e-04\n",
      "Epoch 30/50\n",
      "141/141 [==============================] - 4s 29ms/step - loss: 7.7626e-04\n",
      "Epoch 31/50\n",
      "141/141 [==============================] - 4s 28ms/step - loss: 7.6849e-04\n",
      "Epoch 32/50\n",
      "141/141 [==============================] - 4s 26ms/step - loss: 7.9131e-04\n",
      "Epoch 33/50\n",
      "141/141 [==============================] - 4s 26ms/step - loss: 7.5022e-04\n",
      "Epoch 34/50\n",
      "141/141 [==============================] - 3s 24ms/step - loss: 7.2779e-04\n",
      "Epoch 35/50\n",
      "141/141 [==============================] - 3s 24ms/step - loss: 5.6176e-04\n",
      "Epoch 36/50\n",
      "141/141 [==============================] - 3s 24ms/step - loss: 7.2902e-04\n",
      "Epoch 37/50\n",
      "141/141 [==============================] - 3s 24ms/step - loss: 6.7971e-04\n",
      "Epoch 38/50\n",
      "141/141 [==============================] - 3s 24ms/step - loss: 5.9911e-04\n",
      "Epoch 39/50\n",
      "141/141 [==============================] - 3s 24ms/step - loss: 6.9626e-04\n",
      "Epoch 40/50\n",
      "141/141 [==============================] - 3s 24ms/step - loss: 5.9328e-04\n",
      "Epoch 41/50\n",
      "141/141 [==============================] - 3s 24ms/step - loss: 5.5806e-04\n",
      "Epoch 42/50\n",
      "141/141 [==============================] - 3s 24ms/step - loss: 7.8299e-04\n",
      "Epoch 43/50\n",
      "141/141 [==============================] - 3s 24ms/step - loss: 7.1509e-04\n",
      "Epoch 44/50\n",
      "141/141 [==============================] - 3s 24ms/step - loss: 5.9423e-04\n",
      "Epoch 45/50\n",
      "141/141 [==============================] - 3s 24ms/step - loss: 5.4153e-04\n",
      "Epoch 46/50\n",
      "141/141 [==============================] - 4s 25ms/step - loss: 5.3013e-04\n",
      "Epoch 47/50\n",
      "141/141 [==============================] - 3s 24ms/step - loss: 5.4902e-04\n",
      "Epoch 48/50\n",
      "141/141 [==============================] - 3s 24ms/step - loss: 6.2998e-04\n",
      "Epoch 49/50\n",
      "141/141 [==============================] - 3s 25ms/step - loss: 5.9704e-04\n",
      "Epoch 50/50\n",
      "141/141 [==============================] - 3s 24ms/step - loss: 4.9749e-04\n"
     ]
    }
   ],
   "source": [
    "RNN_model2.compile(optimizer=tf.keras.optimizers.Adam(0.001),loss='mean_squared_error')\n",
    "history2=RNN_model2.fit(X_train,y_train,epochs=50,batch_size=32)"
   ]
  },
  {
   "cell_type": "code",
   "execution_count": 50,
   "id": "b84d46ba",
   "metadata": {},
   "outputs": [
    {
     "data": {
      "image/png": "[encoded data removed]",
      "text/plain": [
       "<Figure size 432x288 with 1 Axes>"
      ]
     },
     "metadata": {
      "needs_background": "light"
     },
     "output_type": "display_data"
    }
   ],
   "source": [
    "plt.plot(history2.history['loss'])\n",
    "plt.title('Model Loss')\n",
    "plt.ylabel('Loss')\n",
    "plt.xlabel('Epochs')\n",
    "plt.show()"
   ]
  },
  {
   "cell_type": "code",
   "execution_count": 51,
   "id": "1bcabce3",
   "metadata": {},
   "outputs": [
    {
     "name": "stdout",
     "output_type": "stream",
     "text": [
      "16/16 [==============================] - 0s 8ms/step\n"
     ]
    }
   ],
   "source": [
    "predicted_stock_price = RNN_model2.predict(X_test)\n",
    "predicted_stock_price = sc.inverse_transform(predicted_stock_price)\n",
    "real_stock_price = sc.inverse_transform(test_set[60:])"
   ]
  },
  {
   "cell_type": "code",
   "execution_count": 52,
   "id": "432c0ade",
   "metadata": {},
   "outputs": [
    {
     "data": {
      "image/png": "[encoded data removed]",
      "text/plain": [
       "<Figure size 432x288 with 1 Axes>"
      ]
     },
     "metadata": {
      "needs_background": "light"
     },
     "output_type": "display_data"
    }
   ],
   "source": [
    "plt.plot(real_stock_price, color='red', label='Real Stock Price')\n",
    "plt.plot(predicted_stock_price, color='blue', label='Predicted Stock Price')\n",
    "plt.title('Stock Price Prediction')\n",
    "plt.xlabel('Time')\n",
    "plt.ylabel('Stock Price')\n",
    "plt.legend()\n",
    "plt.show()"
   ]
  },
  {
   "cell_type": "code",
   "execution_count": 53,
   "id": "a064901e",
   "metadata": {},
   "outputs": [
    {
     "name": "stdout",
     "output_type": "stream",
     "text": [
      "mse: 5.955315\n",
      "rmse: 2.440351\n",
      "mae: 2.001363\n"
     ]
    }
   ],
   "source": [
    "import math\n",
    "#evaluate model\n",
    "mse = mean_squared_error(predicted_stock_price, real_stock_price)\n",
    "rmse = math.sqrt(mean_squared_error(predicted_stock_price, real_stock_price))\n",
    "mae = mean_absolute_error(predicted_stock_price, real_stock_price)\n",
    "print('mse: %.6f' % mse)\n",
    "print('rmse: %.6f' % rmse)\n",
    "print('mae: %.6f' % mae)"
   ]
  },
  {
   "cell_type": "code",
   "execution_count": 15,
   "id": "30b2bd88",
   "metadata": {},
   "outputs": [],
   "source": [
    "RNN_model3 = Sequential()\n",
    "#First layer\n",
    "RNN_model3.add(SimpleRNN(units=50,activation='relu',return_sequences=True,input_shape=(X_train.shape[1],1)))\n",
    "RNN_model3.add(Dropout(0.2))\n",
    "#Second layer\n",
    "RNN_model3.add(SimpleRNN(units=50,activation='relu', return_sequences=True))\n",
    "RNN_model3.add(Dropout(0.2))\n",
    "#Third layer\n",
    "RNN_model3.add(SimpleRNN(units=50 ,activation='relu',return_sequences=True))\n",
    "RNN_model3.add(Dropout(0.2))\n",
    "#Third layer\n",
    "RNN_model3.add(SimpleRNN(units=50 ,activation='relu',return_sequences=True))\n",
    "RNN_model3.add(Dropout(0.2))\n",
    "#Fourth layer\n",
    "RNN_model3.add(SimpleRNN(units=100))\n",
    "RNN_model3.add(Dropout(0.2))\n",
    "#Output layer\n",
    "RNN_model3.add(Dense(units=1))#Since the output value is the opening price of the 61st day, there is only one number, so Dense is 1"
   ]
  },
  {
   "cell_type": "code",
   "execution_count": 17,
   "id": "9edc4313",
   "metadata": {},
   "outputs": [
    {
     "name": "stdout",
     "output_type": "stream",
     "text": [
      "Model: \"sequential_1\"\n",
      "_________________________________________________________________\n",
      " Layer (type)                Output Shape              Param #   \n",
      "=================================================================\n",
      " simple_rnn_2 (SimpleRNN)    (None, 60, 50)            2600      \n",
      "                                                                 \n",
      " dropout_2 (Dropout)         (None, 60, 50)            0         \n",
      "                                                                 \n",
      " simple_rnn_3 (SimpleRNN)    (None, 60, 50)            5050      \n",
      "                                                                 \n",
      " dropout_3 (Dropout)         (None, 60, 50)            0         \n",
      "                                                                 \n",
      " simple_rnn_4 (SimpleRNN)    (None, 60, 50)            5050      \n",
      "                                                                 \n",
      " dropout_4 (Dropout)         (None, 60, 50)            0         \n",
      "                                                                 \n",
      " simple_rnn_5 (SimpleRNN)    (None, 60, 50)            5050      \n",
      "                                                                 \n",
      " dropout_5 (Dropout)         (None, 60, 50)            0         \n",
      "                                                                 \n",
      " simple_rnn_6 (SimpleRNN)    (None, 100)               15100     \n",
      "                                                                 \n",
      " dropout_6 (Dropout)         (None, 100)               0         \n",
      "                                                                 \n",
      " dense_1 (Dense)             (None, 1)                 101       \n",
      "                                                                 \n",
      "=================================================================\n",
      "Total params: 32,951\n",
      "Trainable params: 32,951\n",
      "Non-trainable params: 0\n",
      "_________________________________________________________________\n"
     ]
    }
   ],
   "source": [
    "RNN_model3.summary()"
   ]
  },
  {
   "cell_type": "code",
   "execution_count": 19,
   "id": "628c0a13",
   "metadata": {},
   "outputs": [
    {
     "name": "stdout",
     "output_type": "stream",
     "text": [
      "Epoch 1/50\n",
      "141/141 [==============================] - 6s 26ms/step - loss: 0.0015\n",
      "Epoch 2/50\n",
      "141/141 [==============================] - 4s 26ms/step - loss: 0.0011\n",
      "Epoch 3/50\n",
      "141/141 [==============================] - 4s 27ms/step - loss: 0.0011\n",
      "Epoch 4/50\n",
      "141/141 [==============================] - 4s 27ms/step - loss: 9.4723e-04\n",
      "Epoch 5/50\n",
      "141/141 [==============================] - 4s 27ms/step - loss: 0.0011\n",
      "Epoch 6/50\n",
      "141/141 [==============================] - 4s 27ms/step - loss: 8.6930e-04\n",
      "Epoch 7/50\n",
      "141/141 [==============================] - 4s 27ms/step - loss: 9.1026e-04\n",
      "Epoch 8/50\n",
      "141/141 [==============================] - 4s 27ms/step - loss: 7.2061e-04\n",
      "Epoch 9/50\n",
      "141/141 [==============================] - 4s 27ms/step - loss: 8.3049e-04\n",
      "Epoch 10/50\n",
      "141/141 [==============================] - 4s 27ms/step - loss: 7.1600e-04\n",
      "Epoch 11/50\n",
      "141/141 [==============================] - 4s 27ms/step - loss: 7.4127e-04\n",
      "Epoch 12/50\n",
      "141/141 [==============================] - 4s 27ms/step - loss: 6.2980e-04\n",
      "Epoch 13/50\n",
      "141/141 [==============================] - 4s 27ms/step - loss: 7.7085e-04\n",
      "Epoch 14/50\n",
      "141/141 [==============================] - 4s 27ms/step - loss: 6.7335e-04\n",
      "Epoch 15/50\n",
      "141/141 [==============================] - 4s 27ms/step - loss: 6.5312e-04\n",
      "Epoch 16/50\n",
      "141/141 [==============================] - 4s 27ms/step - loss: 6.1349e-04\n",
      "Epoch 17/50\n",
      "141/141 [==============================] - 4s 27ms/step - loss: 7.2170e-04\n",
      "Epoch 18/50\n",
      "141/141 [==============================] - 4s 28ms/step - loss: 6.8357e-04\n",
      "Epoch 19/50\n",
      "141/141 [==============================] - 4s 27ms/step - loss: 5.7392e-04\n",
      "Epoch 20/50\n",
      "141/141 [==============================] - 4s 27ms/step - loss: 5.6162e-04\n",
      "Epoch 21/50\n",
      "141/141 [==============================] - 4s 27ms/step - loss: 5.6966e-04\n",
      "Epoch 22/50\n",
      "141/141 [==============================] - 4s 28ms/step - loss: 5.7016e-04\n",
      "Epoch 23/50\n",
      "141/141 [==============================] - 4s 29ms/step - loss: 6.6291e-04\n",
      "Epoch 24/50\n",
      "141/141 [==============================] - 4s 27ms/step - loss: 6.3314e-04\n",
      "Epoch 25/50\n",
      "141/141 [==============================] - 4s 27ms/step - loss: 5.4422e-04\n",
      "Epoch 26/50\n",
      "141/141 [==============================] - 4s 27ms/step - loss: 5.0619e-04\n",
      "Epoch 27/50\n",
      "141/141 [==============================] - 4s 27ms/step - loss: 5.2952e-04\n",
      "Epoch 28/50\n",
      "141/141 [==============================] - 4s 28ms/step - loss: 5.8129e-04\n",
      "Epoch 29/50\n",
      "141/141 [==============================] - 4s 26ms/step - loss: 4.5063e-04\n",
      "Epoch 30/50\n",
      "141/141 [==============================] - 4s 27ms/step - loss: 5.9549e-04\n",
      "Epoch 31/50\n",
      "141/141 [==============================] - 4s 29ms/step - loss: 4.7616e-04\n",
      "Epoch 32/50\n",
      "141/141 [==============================] - 5s 36ms/step - loss: 4.8348e-04\n",
      "Epoch 33/50\n",
      "141/141 [==============================] - 5s 32ms/step - loss: 4.6439e-04\n",
      "Epoch 34/50\n",
      "141/141 [==============================] - 4s 31ms/step - loss: 5.5475e-04\n",
      "Epoch 35/50\n",
      "141/141 [==============================] - 4s 28ms/step - loss: 4.6159e-04\n",
      "Epoch 36/50\n",
      "141/141 [==============================] - 4s 28ms/step - loss: 4.4780e-04\n",
      "Epoch 37/50\n",
      "141/141 [==============================] - 4s 27ms/step - loss: 5.0317e-04\n",
      "Epoch 38/50\n",
      "141/141 [==============================] - 4s 27ms/step - loss: 4.6928e-04\n",
      "Epoch 39/50\n",
      "141/141 [==============================] - 4s 27ms/step - loss: 5.3025e-04\n",
      "Epoch 40/50\n",
      "141/141 [==============================] - 4s 30ms/step - loss: 4.9245e-04\n",
      "Epoch 41/50\n",
      "141/141 [==============================] - 4s 27ms/step - loss: 4.4922e-04\n",
      "Epoch 42/50\n",
      "141/141 [==============================] - 4s 28ms/step - loss: 5.1971e-04\n",
      "Epoch 43/50\n",
      "141/141 [==============================] - 4s 30ms/step - loss: 4.6222e-04\n",
      "Epoch 44/50\n",
      "141/141 [==============================] - 4s 29ms/step - loss: 4.6189e-04\n",
      "Epoch 45/50\n",
      "141/141 [==============================] - 4s 28ms/step - loss: 4.5202e-04\n",
      "Epoch 46/50\n",
      "141/141 [==============================] - 4s 28ms/step - loss: 4.0698e-04\n",
      "Epoch 47/50\n",
      "141/141 [==============================] - 4s 27ms/step - loss: 3.9721e-04\n",
      "Epoch 48/50\n",
      "141/141 [==============================] - 4s 27ms/step - loss: 4.1517e-04\n",
      "Epoch 49/50\n",
      "141/141 [==============================] - 4s 27ms/step - loss: 4.1818e-04\n",
      "Epoch 50/50\n",
      "141/141 [==============================] - 4s 27ms/step - loss: 4.4040e-04\n"
     ]
    }
   ],
   "source": [
    "RNN_model3.compile(optimizer=tf.keras.optimizers.Adam(0.001),loss='mean_squared_error')\n",
    "history3=RNN_model3.fit(X_train,y_train,epochs=50,batch_size=32)"
   ]
  },
  {
   "cell_type": "code",
   "execution_count": 20,
   "id": "8a51cb70",
   "metadata": {},
   "outputs": [
    {
     "data": {
      "image/png": "[encoded data removed]",
      "text/plain": [
       "<Figure size 432x288 with 1 Axes>"
      ]
     },
     "metadata": {
      "needs_background": "light"
     },
     "output_type": "display_data"
    }
   ],
   "source": [
    "plt.plot(history3.history['loss'])\n",
    "plt.title('Model Loss')\n",
    "plt.ylabel('Loss')\n",
    "plt.xlabel('Epochs')\n",
    "plt.show()"
   ]
  },
  {
   "cell_type": "code",
   "execution_count": 48,
   "id": "46826bfd",
   "metadata": {},
   "outputs": [
    {
     "name": "stdout",
     "output_type": "stream",
     "text": [
      "16/16 [==============================] - 0s 9ms/step\n"
     ]
    }
   ],
   "source": [
    "predicted_stock_price = RNN_model3.predict(X_test)\n",
    "predicted_stock_price = sc.inverse_transform(predicted_stock_price)\n",
    "real_stock_price = sc.inverse_transform(test_set[60:])"
   ]
  },
  {
   "cell_type": "code",
   "execution_count": 49,
   "id": "a7a144a7",
   "metadata": {},
   "outputs": [
    {
     "data": {
      "image/png": "[encoded data removed]",
      "text/plain": [
       "<Figure size 432x288 with 1 Axes>"
      ]
     },
     "metadata": {
      "needs_background": "light"
     },
     "output_type": "display_data"
    }
   ],
   "source": [
    "\n",
    "plt.plot(real_stock_price, color='red', label='Real Stock Price')\n",
    "plt.plot(predicted_stock_price, color='blue', label='Predicted Stock Price')\n",
    "plt.title('Stock Price Prediction')\n",
    "plt.xlabel('Time')\n",
    "plt.ylabel('Stock Price')\n",
    "plt.legend()\n",
    "plt.show()\n"
   ]
  },
  {
   "cell_type": "code",
   "execution_count": 27,
   "id": "297ed773",
   "metadata": {},
   "outputs": [
    {
     "name": "stdout",
     "output_type": "stream",
     "text": [
      "mse: 107.295452\n",
      "rmse: 10.358352\n",
      "mae: 10.044533\n"
     ]
    }
   ],
   "source": [
    "import math\n",
    "#evaluate model\n",
    "mse = mean_squared_error(predicted_stock_price, real_stock_price)\n",
    "rmse = math.sqrt(mean_squared_error(predicted_stock_price, real_stock_price))\n",
    "mae = mean_absolute_error(predicted_stock_price, real_stock_price)\n",
    "print('mse: %.6f' % mse)\n",
    "print('rmse: %.6f' % rmse)\n",
    "print('mae: %.6f' % mae)"
   ]
  },
  {
   "cell_type": "code",
   "execution_count": 31,
   "id": "23be2c43",
   "metadata": {},
   "outputs": [],
   "source": [
    "RNN_model4 = Sequential()\n",
    "#First layer\n",
    "RNN_model4.add(SimpleRNN(units=50,activation='sigmoid',return_sequences=True,input_shape=(X_train.shape[1],1)))\n",
    "RNN_model4.add(Dropout(0.2))\n",
    "#Second layer\n",
    "RNN_model4.add(SimpleRNN(units=50,activation='sigmoid', return_sequences=True))\n",
    "RNN_model4.add(Dropout(0.2))\n",
    "#Third layer\n",
    "RNN_model4.add(SimpleRNN(units=50 ,activation='sigmoid',return_sequences=True))\n",
    "RNN_model4.add(Dropout(0.2))\n",
    "#Third layer\n",
    "RNN_model4.add(SimpleRNN(units=50 ,activation='sigmoid',return_sequences=True))\n",
    "RNN_model4.add(Dropout(0.2))\n",
    "#Fourth layer\n",
    "RNN_model4.add(SimpleRNN(units=100))\n",
    "RNN_model4.add(Dropout(0.2))\n",
    "#Output layer\n",
    "RNN_model4.add(Dense(units=1))#Since the output value is the opening price of the 61st day, there is only one number, so Dense is 1"
   ]
  },
  {
   "cell_type": "code",
   "execution_count": 32,
   "id": "d0bc5d4f",
   "metadata": {},
   "outputs": [
    {
     "name": "stdout",
     "output_type": "stream",
     "text": [
      "Model: \"sequential_3\"\n",
      "_________________________________________________________________\n",
      " Layer (type)                Output Shape              Param #   \n",
      "=================================================================\n",
      " simple_rnn_7 (SimpleRNN)    (None, 60, 50)            2600      \n",
      "                                                                 \n",
      " dropout_7 (Dropout)         (None, 60, 50)            0         \n",
      "                                                                 \n",
      " simple_rnn_8 (SimpleRNN)    (None, 60, 50)            5050      \n",
      "                                                                 \n",
      " dropout_8 (Dropout)         (None, 60, 50)            0         \n",
      "                                                                 \n",
      " simple_rnn_9 (SimpleRNN)    (None, 60, 50)            5050      \n",
      "                                                                 \n",
      " dropout_9 (Dropout)         (None, 60, 50)            0         \n",
      "                                                                 \n",
      " simple_rnn_10 (SimpleRNN)   (None, 60, 50)            5050      \n",
      "                                                                 \n",
      " dropout_10 (Dropout)        (None, 60, 50)            0         \n",
      "                                                                 \n",
      " simple_rnn_11 (SimpleRNN)   (None, 100)               15100     \n",
      "                                                                 \n",
      " dropout_11 (Dropout)        (None, 100)               0         \n",
      "                                                                 \n",
      " dense_2 (Dense)             (None, 1)                 101       \n",
      "                                                                 \n",
      "=================================================================\n",
      "Total params: 32,951\n",
      "Trainable params: 32,951\n",
      "Non-trainable params: 0\n",
      "_________________________________________________________________\n"
     ]
    }
   ],
   "source": [
    "RNN_model4.summary()"
   ]
  },
  {
   "cell_type": "code",
   "execution_count": 36,
   "id": "3d05fc6d",
   "metadata": {},
   "outputs": [
    {
     "name": "stdout",
     "output_type": "stream",
     "text": [
      "Epoch 1/50\n",
      "141/141 [==============================] - 6s 28ms/step - loss: 0.0159\n",
      "Epoch 2/50\n",
      "141/141 [==============================] - 4s 25ms/step - loss: 0.0161\n",
      "Epoch 3/50\n",
      "141/141 [==============================] - 3s 25ms/step - loss: 0.0161\n",
      "Epoch 4/50\n",
      "141/141 [==============================] - 4s 25ms/step - loss: 0.0162\n",
      "Epoch 5/50\n",
      "141/141 [==============================] - 3s 25ms/step - loss: 0.0161\n",
      "Epoch 6/50\n",
      "141/141 [==============================] - 3s 24ms/step - loss: 0.0160\n",
      "Epoch 7/50\n",
      "141/141 [==============================] - 4s 25ms/step - loss: 0.0161\n",
      "Epoch 8/50\n",
      "141/141 [==============================] - 4s 27ms/step - loss: 0.0161\n",
      "Epoch 9/50\n",
      "141/141 [==============================] - 4s 25ms/step - loss: 0.0161\n",
      "Epoch 10/50\n",
      "141/141 [==============================] - 4s 27ms/step - loss: 0.0161\n",
      "Epoch 11/50\n",
      "141/141 [==============================] - 4s 28ms/step - loss: 0.0155\n",
      "Epoch 12/50\n",
      "141/141 [==============================] - 4s 26ms/step - loss: 0.0080\n",
      "Epoch 13/50\n",
      "141/141 [==============================] - 4s 25ms/step - loss: 0.0025\n",
      "Epoch 14/50\n",
      "141/141 [==============================] - 4s 26ms/step - loss: 0.0016\n",
      "Epoch 15/50\n",
      "141/141 [==============================] - 4s 29ms/step - loss: 0.0013\n",
      "Epoch 16/50\n",
      "141/141 [==============================] - 4s 28ms/step - loss: 0.0012\n",
      "Epoch 17/50\n",
      "141/141 [==============================] - 4s 25ms/step - loss: 0.0014\n",
      "Epoch 18/50\n",
      "141/141 [==============================] - 4s 27ms/step - loss: 0.0013\n",
      "Epoch 19/50\n",
      "141/141 [==============================] - 4s 27ms/step - loss: 0.0011\n",
      "Epoch 20/50\n",
      "141/141 [==============================] - 4s 26ms/step - loss: 0.0011\n",
      "Epoch 21/50\n",
      "141/141 [==============================] - 4s 25ms/step - loss: 0.0011\n",
      "Epoch 22/50\n",
      "141/141 [==============================] - 3s 25ms/step - loss: 0.0011\n",
      "Epoch 23/50\n",
      "141/141 [==============================] - 3s 25ms/step - loss: 0.0013\n",
      "Epoch 24/50\n",
      "141/141 [==============================] - 4s 25ms/step - loss: 0.0010\n",
      "Epoch 25/50\n",
      "141/141 [==============================] - 4s 26ms/step - loss: 0.0010\n",
      "Epoch 26/50\n",
      "141/141 [==============================] - 4s 27ms/step - loss: 0.0010\n",
      "Epoch 27/50\n",
      "141/141 [==============================] - 4s 27ms/step - loss: 9.8869e-04\n",
      "Epoch 28/50\n",
      "141/141 [==============================] - 4s 25ms/step - loss: 9.8535e-04\n",
      "Epoch 29/50\n",
      "141/141 [==============================] - 4s 25ms/step - loss: 0.0010\n",
      "Epoch 30/50\n",
      "141/141 [==============================] - 4s 28ms/step - loss: 9.2213e-04\n",
      "Epoch 31/50\n",
      "141/141 [==============================] - 4s 25ms/step - loss: 9.3815e-04\n",
      "Epoch 32/50\n",
      "141/141 [==============================] - 4s 25ms/step - loss: 9.5686e-04\n",
      "Epoch 33/50\n",
      "141/141 [==============================] - 4s 25ms/step - loss: 8.9751e-04\n",
      "Epoch 34/50\n",
      "141/141 [==============================] - 4s 26ms/step - loss: 9.9379e-04\n",
      "Epoch 35/50\n",
      "141/141 [==============================] - 4s 26ms/step - loss: 8.0988e-04\n",
      "Epoch 36/50\n",
      "141/141 [==============================] - 4s 25ms/step - loss: 9.7123e-04\n",
      "Epoch 37/50\n",
      "141/141 [==============================] - 3s 25ms/step - loss: 8.7904e-04\n",
      "Epoch 38/50\n",
      "141/141 [==============================] - 4s 26ms/step - loss: 8.1484e-04\n",
      "Epoch 39/50\n",
      "141/141 [==============================] - 4s 25ms/step - loss: 0.0011\n",
      "Epoch 40/50\n",
      "141/141 [==============================] - 4s 27ms/step - loss: 8.8820e-04\n",
      "Epoch 41/50\n",
      "141/141 [==============================] - 4s 28ms/step - loss: 8.8684e-04\n",
      "Epoch 42/50\n",
      "141/141 [==============================] - 4s 26ms/step - loss: 8.9838e-04\n",
      "Epoch 43/50\n",
      "141/141 [==============================] - 4s 26ms/step - loss: 8.9140e-04\n",
      "Epoch 44/50\n",
      "141/141 [==============================] - 4s 26ms/step - loss: 8.3436e-04\n",
      "Epoch 45/50\n",
      "141/141 [==============================] - 4s 26ms/step - loss: 8.5617e-04\n",
      "Epoch 46/50\n",
      "141/141 [==============================] - 4s 26ms/step - loss: 8.4902e-04\n",
      "Epoch 47/50\n",
      "141/141 [==============================] - 4s 26ms/step - loss: 8.8412e-04\n",
      "Epoch 48/50\n",
      "141/141 [==============================] - 4s 27ms/step - loss: 8.2814e-04\n",
      "Epoch 49/50\n",
      "141/141 [==============================] - 4s 26ms/step - loss: 8.3525e-04\n",
      "Epoch 50/50\n",
      "141/141 [==============================] - 4s 28ms/step - loss: 8.0223e-04\n"
     ]
    }
   ],
   "source": [
    "RNN_model4.compile(optimizer=tf.keras.optimizers.Adam(0.001),loss='mean_squared_error')\n",
    "history4=RNN_model4.fit(X_train,y_train,epochs=50,batch_size=32)"
   ]
  },
  {
   "cell_type": "code",
   "execution_count": 37,
   "id": "9ca908fd",
   "metadata": {},
   "outputs": [
    {
     "data": {
      "image/png": "[encoded data removed]",
      "text/plain": [
       "<Figure size 432x288 with 1 Axes>"
      ]
     },
     "metadata": {
      "needs_background": "light"
     },
     "output_type": "display_data"
    }
   ],
   "source": [
    "plt.plot(history4.history['loss'])\n",
    "plt.title('Model Loss')\n",
    "plt.ylabel('Loss')\n",
    "plt.xlabel('Epochs')\n",
    "plt.show()"
   ]
  },
  {
   "cell_type": "code",
   "execution_count": 52,
   "id": "8767f442",
   "metadata": {},
   "outputs": [
    {
     "name": "stdout",
     "output_type": "stream",
     "text": [
      "16/16 [==============================] - 0s 10ms/step\n"
     ]
    }
   ],
   "source": [
    "predicted_stock_price = RNN_model4.predict(X_test)\n",
    "predicted_stock_price = sc.inverse_transform(predicted_stock_price)\n",
    "real_stock_price = sc.inverse_transform(test_set[60:])"
   ]
  },
  {
   "cell_type": "code",
   "execution_count": 53,
   "id": "1e9bc083",
   "metadata": {},
   "outputs": [
    {
     "data": {
      "image/png": "[encoded data removed]",
      "text/plain": [
       "<Figure size 432x288 with 1 Axes>"
      ]
     },
     "metadata": {
      "needs_background": "light"
     },
     "output_type": "display_data"
    }
   ],
   "source": [
    "plt.plot(real_stock_price, color='red', label='Real Stock Price')\n",
    "plt.plot(predicted_stock_price, color='blue', label='Predicted Stock Price')\n",
    "plt.title('Stock Price Prediction')\n",
    "plt.xlabel('Time')\n",
    "plt.ylabel('Stock Price')\n",
    "plt.legend()\n",
    "plt.show()"
   ]
  },
  {
   "cell_type": "code",
   "execution_count": 39,
   "id": "e1c510b1",
   "metadata": {},
   "outputs": [
    {
     "name": "stdout",
     "output_type": "stream",
     "text": [
      "mse: 34.852006\n",
      "rmse: 5.903559\n",
      "mae: 5.409694\n"
     ]
    }
   ],
   "source": [
    "import math\n",
    "#evaluate model\n",
    "mse = mean_squared_error(predicted_stock_price, real_stock_price)\n",
    "rmse = math.sqrt(mean_squared_error(predicted_stock_price, real_stock_price))\n",
    "mae = mean_absolute_error(predicted_stock_price, real_stock_price)\n",
    "print('mse: %.6f' % mse)\n",
    "print('rmse: %.6f' % rmse)\n",
    "print('mae: %.6f' % mae)"
   ]
  },
  {
   "cell_type": "code",
   "execution_count": 42,
   "id": "b50f4cb7",
   "metadata": {},
   "outputs": [],
   "source": [
    "RNN_model5 = Sequential()\n",
    "#First layer\n",
    "RNN_model5.add(SimpleRNN(units=50,return_sequences=True,input_shape=(X_train.shape[1],1)))\n",
    "RNN_model5.add(Dropout(0.2))\n",
    "#Second layer\n",
    "RNN_model5.add(SimpleRNN(units=50, return_sequences=True))\n",
    "RNN_model5.add(Dropout(0.2))\n",
    "#Third layer\n",
    "RNN_model5.add(SimpleRNN(units=50 ,return_sequences=True))\n",
    "RNN_model5.add(Dropout(0.2))\n",
    "#Third layer\n",
    "RNN_model5.add(SimpleRNN(units=50,return_sequences=True))\n",
    "RNN_model5.add(Dropout(0.2))\n",
    "#Fourth layer\n",
    "RNN_model5.add(SimpleRNN(units=100))\n",
    "RNN_model5.add(Dropout(0.2))\n",
    "#Output layer\n",
    "RNN_model5.add(Dense(units=1))#Since the output value is the opening price of the 61st day, there is only one number, so Dense is 1"
   ]
  },
  {
   "cell_type": "code",
   "execution_count": 43,
   "id": "0432a4ce",
   "metadata": {},
   "outputs": [
    {
     "name": "stdout",
     "output_type": "stream",
     "text": [
      "Epoch 1/50\n",
      "141/141 [==============================] - 6s 25ms/step - loss: 0.2251\n",
      "Epoch 2/50\n",
      "141/141 [==============================] - 4s 26ms/step - loss: 0.0947\n",
      "Epoch 3/50\n",
      "141/141 [==============================] - 3s 24ms/step - loss: 0.0539\n",
      "Epoch 4/50\n",
      "141/141 [==============================] - 3s 25ms/step - loss: 0.0327\n",
      "Epoch 5/50\n",
      "141/141 [==============================] - 4s 25ms/step - loss: 0.0210\n",
      "Epoch 6/50\n",
      "141/141 [==============================] - 4s 25ms/step - loss: 0.0135\n",
      "Epoch 7/50\n",
      "141/141 [==============================] - 4s 26ms/step - loss: 0.0094\n",
      "Epoch 8/50\n",
      "141/141 [==============================] - 3s 24ms/step - loss: 0.0067\n",
      "Epoch 9/50\n",
      "141/141 [==============================] - 3s 24ms/step - loss: 0.0049\n",
      "Epoch 10/50\n",
      "141/141 [==============================] - 3s 24ms/step - loss: 0.0039\n",
      "Epoch 11/50\n",
      "141/141 [==============================] - 4s 25ms/step - loss: 0.0032\n",
      "Epoch 12/50\n",
      "141/141 [==============================] - 3s 25ms/step - loss: 0.0028\n",
      "Epoch 13/50\n",
      "141/141 [==============================] - 4s 27ms/step - loss: 0.0022\n",
      "Epoch 14/50\n",
      "141/141 [==============================] - 4s 25ms/step - loss: 0.0020\n",
      "Epoch 15/50\n",
      "141/141 [==============================] - 4s 25ms/step - loss: 0.0017\n",
      "Epoch 16/50\n",
      "141/141 [==============================] - 4s 25ms/step - loss: 0.0016\n",
      "Epoch 17/50\n",
      "141/141 [==============================] - 4s 25ms/step - loss: 0.0014\n",
      "Epoch 18/50\n",
      "141/141 [==============================] - 3s 25ms/step - loss: 0.0012\n",
      "Epoch 19/50\n",
      "141/141 [==============================] - 4s 25ms/step - loss: 0.0012\n",
      "Epoch 20/50\n",
      "141/141 [==============================] - 4s 26ms/step - loss: 0.0012\n",
      "Epoch 21/50\n",
      "141/141 [==============================] - 4s 25ms/step - loss: 0.0010\n",
      "Epoch 22/50\n",
      "141/141 [==============================] - 4s 26ms/step - loss: 0.0012\n",
      "Epoch 23/50\n",
      "141/141 [==============================] - 4s 27ms/step - loss: 0.0010\n",
      "Epoch 24/50\n",
      "141/141 [==============================] - 4s 26ms/step - loss: 0.0010\n",
      "Epoch 25/50\n",
      "141/141 [==============================] - 4s 25ms/step - loss: 0.0011\n",
      "Epoch 26/50\n",
      "141/141 [==============================] - 4s 25ms/step - loss: 9.8240e-04\n",
      "Epoch 27/50\n",
      "141/141 [==============================] - 4s 25ms/step - loss: 9.5432e-04\n",
      "Epoch 28/50\n",
      "141/141 [==============================] - 3s 25ms/step - loss: 9.0291e-04\n",
      "Epoch 29/50\n",
      "141/141 [==============================] - 3s 25ms/step - loss: 8.7416e-04\n",
      "Epoch 30/50\n",
      "141/141 [==============================] - 3s 25ms/step - loss: 9.2859e-04\n",
      "Epoch 31/50\n",
      "141/141 [==============================] - 3s 25ms/step - loss: 8.1671e-04\n",
      "Epoch 32/50\n",
      "141/141 [==============================] - 4s 25ms/step - loss: 8.0436e-04\n",
      "Epoch 33/50\n",
      "141/141 [==============================] - 4s 25ms/step - loss: 7.9084e-04\n",
      "Epoch 34/50\n",
      "141/141 [==============================] - 4s 25ms/step - loss: 8.4067e-04\n",
      "Epoch 35/50\n",
      "141/141 [==============================] - 4s 25ms/step - loss: 7.0791e-04\n",
      "Epoch 36/50\n",
      "141/141 [==============================] - 4s 25ms/step - loss: 7.8345e-04\n",
      "Epoch 37/50\n",
      "141/141 [==============================] - 3s 25ms/step - loss: 8.1380e-04\n",
      "Epoch 38/50\n",
      "141/141 [==============================] - 3s 25ms/step - loss: 6.2891e-04\n",
      "Epoch 39/50\n",
      "141/141 [==============================] - 4s 25ms/step - loss: 7.8873e-04\n",
      "Epoch 40/50\n",
      "141/141 [==============================] - 4s 25ms/step - loss: 7.5490e-04\n",
      "Epoch 41/50\n",
      "141/141 [==============================] - 3s 25ms/step - loss: 6.0616e-04\n",
      "Epoch 42/50\n",
      "141/141 [==============================] - 3s 24ms/step - loss: 7.1939e-04\n",
      "Epoch 43/50\n",
      "141/141 [==============================] - 3s 24ms/step - loss: 5.9957e-04\n",
      "Epoch 44/50\n",
      "141/141 [==============================] - 3s 24ms/step - loss: 6.6754e-04\n",
      "Epoch 45/50\n",
      "141/141 [==============================] - 4s 25ms/step - loss: 5.5166e-04\n",
      "Epoch 46/50\n",
      "141/141 [==============================] - 3s 25ms/step - loss: 6.4312e-04\n",
      "Epoch 47/50\n",
      "141/141 [==============================] - 3s 25ms/step - loss: 6.1031e-04\n",
      "Epoch 48/50\n",
      "141/141 [==============================] - 3s 24ms/step - loss: 4.8989e-04\n",
      "Epoch 49/50\n",
      "141/141 [==============================] - 3s 24ms/step - loss: 6.0561e-04\n",
      "Epoch 50/50\n",
      "141/141 [==============================] - 3s 24ms/step - loss: 5.7803e-04\n"
     ]
    }
   ],
   "source": [
    "RNN_model5.compile(optimizer=tf.keras.optimizers.Adam(0.001),loss='mean_squared_error')\n",
    "history5=RNN_model5.fit(X_train,y_train,epochs=50,batch_size=32)"
   ]
  },
  {
   "cell_type": "code",
   "execution_count": 44,
   "id": "5944e64e",
   "metadata": {},
   "outputs": [
    {
     "data": {
      "image/png": "[encoded data removed]",
      "text/plain": [
       "<Figure size 432x288 with 1 Axes>"
      ]
     },
     "metadata": {
      "needs_background": "light"
     },
     "output_type": "display_data"
    }
   ],
   "source": [
    "plt.plot(history5.history['loss'])\n",
    "plt.title('Model Loss')\n",
    "plt.ylabel('Loss')\n",
    "plt.xlabel('Epochs')\n",
    "plt.show()"
   ]
  },
  {
   "cell_type": "code",
   "execution_count": 50,
   "id": "5143c95f",
   "metadata": {},
   "outputs": [
    {
     "name": "stdout",
     "output_type": "stream",
     "text": [
      "16/16 [==============================] - 0s 9ms/step\n"
     ]
    }
   ],
   "source": [
    "predicted_stock_price = RNN_model5.predict(X_test)\n",
    "predicted_stock_price = sc.inverse_transform(predicted_stock_price)\n",
    "real_stock_price = sc.inverse_transform(test_set[60:])"
   ]
  },
  {
   "cell_type": "code",
   "execution_count": 46,
   "id": "0082b6ae",
   "metadata": {},
   "outputs": [
    {
     "name": "stdout",
     "output_type": "stream",
     "text": [
      "mse: 17.270771\n",
      "rmse: 4.155812\n",
      "mae: 3.441610\n"
     ]
    }
   ],
   "source": [
    "#evaluate model\n",
    "mse = mean_squared_error(predicted_stock_price, real_stock_price)\n",
    "rmse = math.sqrt(mean_squared_error(predicted_stock_price, real_stock_price))\n",
    "mae = mean_absolute_error(predicted_stock_price, real_stock_price)\n",
    "print('mse: %.6f' % mse)\n",
    "print('rmse: %.6f' % rmse)\n",
    "print('mae: %.6f' % mae)"
   ]
  },
  {
   "cell_type": "code",
   "execution_count": 47,
   "id": "e9933946",
   "metadata": {},
   "outputs": [
    {
     "data": {
      "image/png": "[encoded data removed]",
      "text/plain": [
       "<Figure size 432x288 with 1 Axes>"
      ]
     },
     "metadata": {
      "needs_background": "light"
     },
     "output_type": "display_data"
    }
   ],
   "source": [
    "plt.plot(real_stock_price, color='red', label='Real Stock Price')\n",
    "plt.plot(predicted_stock_price, color='blue', label='Predicted Stock Price')\n",
    "plt.title('Stock Price Prediction')\n",
    "plt.xlabel('Time')\n",
    "plt.ylabel('Stock Price')\n",
    "plt.legend()\n",
    "plt.show()"
   ]
  },
  {
   "cell_type": "markdown",
   "id": "98a9a306",
   "metadata": {},
   "source": [
    "# LSTM"
   ]
  },
  {
   "cell_type": "code",
   "execution_count": 151,
   "id": "23088721",
   "metadata": {},
   "outputs": [],
   "source": [
    "LSTM_model = Sequential()\n",
    "#First layer\n",
    "LSTM_model.add(LSTM(units=50, return_sequences=True,input_shape=(X_train.shape[1],1)))\n",
    "LSTM_model.add(Dropout(0.2))\n",
    "#Second layer\n",
    "LSTM_model.add(LSTM(units=50, return_sequences=True))\n",
    "LSTM_model.add(Dropout(0.2))\n",
    "#Third layer\n",
    "LSTM_model.add(LSTM(units=50, return_sequences=True))\n",
    "LSTM_model.add(Dropout(0.2))\n",
    "#Third layer\n",
    "LSTM_model.add(LSTM(units=50, return_sequences=True))\n",
    "LSTM_model.add(Dropout(0.2))\n",
    "#Fourth layer\n",
    "LSTM_model.add(LSTM(units=50))\n",
    "LSTM_model.add(Dropout(0.2))\n",
    "#Output layer\n",
    "LSTM_model.add(Dense(units=1))#Since the output value is the opening price of the 61st day, there is only one number, so Dense is 1"
   ]
  },
  {
   "cell_type": "code",
   "execution_count": 152,
   "id": "2a815dec",
   "metadata": {},
   "outputs": [
    {
     "name": "stdout",
     "output_type": "stream",
     "text": [
      "Model: \"sequential_8\"\n",
      "_________________________________________________________________\n",
      " Layer (type)                Output Shape              Param #   \n",
      "=================================================================\n",
      " lstm_6 (LSTM)               (None, 60, 50)            10400     \n",
      "                                                                 \n",
      " dropout_21 (Dropout)        (None, 60, 50)            0         \n",
      "                                                                 \n",
      " lstm_7 (LSTM)               (None, 60, 50)            20200     \n",
      "                                                                 \n",
      " dropout_22 (Dropout)        (None, 60, 50)            0         \n",
      "                                                                 \n",
      " lstm_8 (LSTM)               (None, 60, 50)            20200     \n",
      "                                                                 \n",
      " dropout_23 (Dropout)        (None, 60, 50)            0         \n",
      "                                                                 \n",
      " lstm_9 (LSTM)               (None, 60, 50)            20200     \n",
      "                                                                 \n",
      " dropout_24 (Dropout)        (None, 60, 50)            0         \n",
      "                                                                 \n",
      " lstm_10 (LSTM)              (None, 50)                20200     \n",
      "                                                                 \n",
      " dropout_25 (Dropout)        (None, 50)                0         \n",
      "                                                                 \n",
      " dense_5 (Dense)             (None, 1)                 51        \n",
      "                                                                 \n",
      "=================================================================\n",
      "Total params: 91,251\n",
      "Trainable params: 91,251\n",
      "Non-trainable params: 0\n",
      "_________________________________________________________________\n"
     ]
    }
   ],
   "source": [
    "LSTM_model.summary()"
   ]
  },
  {
   "cell_type": "code",
   "execution_count": 153,
   "id": "55193b01",
   "metadata": {},
   "outputs": [
    {
     "name": "stdout",
     "output_type": "stream",
     "text": [
      "Epoch 1/50\n",
      "141/141 [==============================] - 14s 58ms/step - loss: 0.0037\n",
      "Epoch 2/50\n",
      "141/141 [==============================] - 8s 59ms/step - loss: 0.0017\n",
      "Epoch 3/50\n",
      "141/141 [==============================] - 8s 60ms/step - loss: 0.0014\n",
      "Epoch 4/50\n",
      "141/141 [==============================] - 8s 59ms/step - loss: 0.0012\n",
      "Epoch 5/50\n",
      "141/141 [==============================] - 8s 59ms/step - loss: 0.0011\n",
      "Epoch 6/50\n",
      "141/141 [==============================] - 8s 58ms/step - loss: 0.0010\n",
      "Epoch 7/50\n",
      "141/141 [==============================] - 8s 59ms/step - loss: 9.2224e-04\n",
      "Epoch 8/50\n",
      "141/141 [==============================] - 8s 57ms/step - loss: 8.5674e-04\n",
      "Epoch 9/50\n",
      "141/141 [==============================] - 8s 59ms/step - loss: 8.1490e-04\n",
      "Epoch 10/50\n",
      "141/141 [==============================] - 8s 58ms/step - loss: 8.6613e-04\n",
      "Epoch 11/50\n",
      "141/141 [==============================] - 8s 59ms/step - loss: 7.2198e-04\n",
      "Epoch 12/50\n",
      "141/141 [==============================] - 8s 59ms/step - loss: 6.8431e-04\n",
      "Epoch 13/50\n",
      "141/141 [==============================] - 8s 57ms/step - loss: 7.4110e-04\n",
      "Epoch 14/50\n",
      "141/141 [==============================] - 8s 57ms/step - loss: 7.9906e-04\n",
      "Epoch 15/50\n",
      "141/141 [==============================] - 8s 57ms/step - loss: 6.3820e-04\n",
      "Epoch 16/50\n",
      "141/141 [==============================] - 8s 58ms/step - loss: 6.2173e-04\n",
      "Epoch 17/50\n",
      "141/141 [==============================] - 8s 57ms/step - loss: 6.3974e-04\n",
      "Epoch 18/50\n",
      "141/141 [==============================] - 8s 58ms/step - loss: 5.5416e-04\n",
      "Epoch 19/50\n",
      "141/141 [==============================] - 8s 57ms/step - loss: 5.7028e-04\n",
      "Epoch 20/50\n",
      "141/141 [==============================] - 8s 58ms/step - loss: 5.9600e-04\n",
      "Epoch 21/50\n",
      "141/141 [==============================] - 8s 58ms/step - loss: 4.7428e-04\n",
      "Epoch 22/50\n",
      "141/141 [==============================] - 8s 59ms/step - loss: 5.4323e-04\n",
      "Epoch 23/50\n",
      "141/141 [==============================] - 8s 58ms/step - loss: 4.9828e-04\n",
      "Epoch 24/50\n",
      "141/141 [==============================] - 8s 58ms/step - loss: 5.7057e-04\n",
      "Epoch 25/50\n",
      "141/141 [==============================] - 8s 59ms/step - loss: 4.0673e-04\n",
      "Epoch 26/50\n",
      "141/141 [==============================] - 8s 59ms/step - loss: 5.0349e-04\n",
      "Epoch 27/50\n",
      "141/141 [==============================] - 8s 60ms/step - loss: 4.6149e-04\n",
      "Epoch 28/50\n",
      "141/141 [==============================] - 8s 59ms/step - loss: 4.9549e-04\n",
      "Epoch 29/50\n",
      "141/141 [==============================] - 8s 59ms/step - loss: 4.5346e-04\n",
      "Epoch 30/50\n",
      "141/141 [==============================] - 8s 59ms/step - loss: 4.5615e-04\n",
      "Epoch 31/50\n",
      "141/141 [==============================] - 8s 60ms/step - loss: 4.2591e-04\n",
      "Epoch 32/50\n",
      "141/141 [==============================] - 8s 59ms/step - loss: 4.7261e-04\n",
      "Epoch 33/50\n",
      "141/141 [==============================] - 8s 60ms/step - loss: 4.2473e-04\n",
      "Epoch 34/50\n",
      "141/141 [==============================] - 8s 59ms/step - loss: 4.3068e-04\n",
      "Epoch 35/50\n",
      "141/141 [==============================] - 8s 59ms/step - loss: 3.7995e-04\n",
      "Epoch 36/50\n",
      "141/141 [==============================] - 8s 59ms/step - loss: 4.3381e-04\n",
      "Epoch 37/50\n",
      "141/141 [==============================] - 8s 59ms/step - loss: 3.7735e-04\n",
      "Epoch 38/50\n",
      "141/141 [==============================] - 8s 59ms/step - loss: 3.4981e-04\n",
      "Epoch 39/50\n",
      "141/141 [==============================] - 8s 59ms/step - loss: 4.4949e-04\n",
      "Epoch 40/50\n",
      "141/141 [==============================] - 8s 59ms/step - loss: 4.4122e-04\n",
      "Epoch 41/50\n",
      "141/141 [==============================] - 8s 59ms/step - loss: 3.6584e-04\n",
      "Epoch 42/50\n",
      "141/141 [==============================] - 8s 59ms/step - loss: 4.2645e-04\n",
      "Epoch 43/50\n",
      "141/141 [==============================] - 8s 59ms/step - loss: 3.7556e-04\n",
      "Epoch 44/50\n",
      "141/141 [==============================] - 8s 59ms/step - loss: 3.7711e-04\n",
      "Epoch 45/50\n",
      "141/141 [==============================] - 8s 59ms/step - loss: 3.5024e-04\n",
      "Epoch 46/50\n",
      "141/141 [==============================] - 8s 59ms/step - loss: 4.0039e-04\n",
      "Epoch 47/50\n",
      "141/141 [==============================] - 8s 59ms/step - loss: 3.4254e-04\n",
      "Epoch 48/50\n",
      "141/141 [==============================] - 8s 59ms/step - loss: 3.6213e-04\n",
      "Epoch 49/50\n",
      "141/141 [==============================] - 8s 59ms/step - loss: 3.8358e-04\n",
      "Epoch 50/50\n",
      "141/141 [==============================] - 8s 59ms/step - loss: 3.7856e-04\n"
     ]
    }
   ],
   "source": [
    "LSTM_model.compile(optimizer=tf.keras.optimizers.Adam(0.001),loss='mean_squared_error')\n",
    "history3=LSTM_model.fit(X_train,y_train,epochs=50,batch_size=32)"
   ]
  },
  {
   "cell_type": "code",
   "execution_count": 158,
   "id": "8aae301d",
   "metadata": {},
   "outputs": [
    {
     "name": "stdout",
     "output_type": "stream",
     "text": [
      "16/16 [==============================] - 2s 19ms/step\n"
     ]
    }
   ],
   "source": [
    "predicted_stock_price = LSTM_model.predict(X_test)\n",
    "predicted_stock_price = sc.inverse_transform(predicted_stock_price)\n",
    "real_stock_price = sc.inverse_transform(test_set[60:])"
   ]
  },
  {
   "cell_type": "code",
   "execution_count": 159,
   "id": "b4876159",
   "metadata": {},
   "outputs": [
    {
     "data": {
      "image/png": "[encoded data removed]",
      "text/plain": [
       "<Figure size 432x288 with 1 Axes>"
      ]
     },
     "metadata": {
      "needs_background": "light"
     },
     "output_type": "display_data"
    }
   ],
   "source": [
    "plt.plot(real_stock_price, color='red', label='Real Stock Price')\n",
    "plt.plot(predicted_stock_price, color='blue', label='Predicted Stock Price')\n",
    "plt.title('Stock Price Prediction')\n",
    "plt.xlabel('Time')\n",
    "plt.ylabel('Stock Price')\n",
    "plt.legend()\n",
    "plt.show()"
   ]
  },
  {
   "cell_type": "code",
   "execution_count": 160,
   "id": "892edc53",
   "metadata": {},
   "outputs": [
    {
     "name": "stdout",
     "output_type": "stream",
     "text": [
      "mse: 1.860259\n",
      "rmse: 1.363913\n",
      "mae: 1.030905\n"
     ]
    }
   ],
   "source": [
    "import math\n",
    "#evaluate model\n",
    "mse = mean_squared_error(predicted_stock_price, real_stock_price)\n",
    "rmse = math.sqrt(mean_squared_error(predicted_stock_price, real_stock_price))\n",
    "mae = mean_absolute_error(predicted_stock_price, real_stock_price)\n",
    "print('mse: %.6f' % mse)\n",
    "print('rmse: %.6f' % rmse)\n",
    "print('mae: %.6f' % mae)"
   ]
  },
  {
   "cell_type": "markdown",
   "id": "de58c4ab",
   "metadata": {},
   "source": [
    "# GRU"
   ]
  },
  {
   "cell_type": "code",
   "execution_count": 162,
   "id": "004eb059",
   "metadata": {},
   "outputs": [],
   "source": [
    "GRU_model = Sequential()\n",
    "#First layer\n",
    "GRU_model.add(GRU(units=50, return_sequences=True,input_shape=(X_train.shape[1],1)))\n",
    "GRU_model.add(Dropout(0.2))\n",
    "#Second layer\n",
    "GRU_model.add(GRU(units=50, return_sequences=True))\n",
    "GRU_model.add(Dropout(0.2))\n",
    "#Third layer\n",
    "GRU_model.add(GRU(units=50, return_sequences=True))\n",
    "GRU_model.add(Dropout(0.2))\n",
    "#Third layer\n",
    "GRU_model.add(GRU(units=50, return_sequences=True))\n",
    "GRU_model.add(Dropout(0.2))\n",
    "#Fourth layer\n",
    "GRU_model.add(GRU(units=50))\n",
    "GRU_model.add(Dropout(0.2))\n",
    "#Output layer\n",
    "GRU_model.add(Dense(units=1))#Since the output value is the opening price of the 61st day, there is only one number, so Dense is 1"
   ]
  },
  {
   "cell_type": "code",
   "execution_count": 163,
   "id": "f930ff8b",
   "metadata": {},
   "outputs": [
    {
     "name": "stdout",
     "output_type": "stream",
     "text": [
      "Model: \"sequential_11\"\n",
      "_________________________________________________________________\n",
      " Layer (type)                Output Shape              Param #   \n",
      "=================================================================\n",
      " gru_4 (GRU)                 (None, 60, 50)            7950      \n",
      "                                                                 \n",
      " dropout_28 (Dropout)        (None, 60, 50)            0         \n",
      "                                                                 \n",
      " gru_5 (GRU)                 (None, 60, 50)            15300     \n",
      "                                                                 \n",
      " dropout_29 (Dropout)        (None, 60, 50)            0         \n",
      "                                                                 \n",
      " gru_6 (GRU)                 (None, 60, 50)            15300     \n",
      "                                                                 \n",
      " dropout_30 (Dropout)        (None, 60, 50)            0         \n",
      "                                                                 \n",
      " gru_7 (GRU)                 (None, 60, 50)            15300     \n",
      "                                                                 \n",
      " dropout_31 (Dropout)        (None, 60, 50)            0         \n",
      "                                                                 \n",
      " gru_8 (GRU)                 (None, 50)                15300     \n",
      "                                                                 \n",
      " dropout_32 (Dropout)        (None, 50)                0         \n",
      "                                                                 \n",
      " dense_6 (Dense)             (None, 1)                 51        \n",
      "                                                                 \n",
      "=================================================================\n",
      "Total params: 69,201\n",
      "Trainable params: 69,201\n",
      "Non-trainable params: 0\n",
      "_________________________________________________________________\n"
     ]
    }
   ],
   "source": [
    "GRU_model.summary()"
   ]
  },
  {
   "cell_type": "code",
   "execution_count": 164,
   "id": "3d27566c",
   "metadata": {},
   "outputs": [
    {
     "name": "stdout",
     "output_type": "stream",
     "text": [
      "Epoch 1/50\n",
      "141/141 [==============================] - 14s 57ms/step - loss: 0.0030\n",
      "Epoch 2/50\n",
      "141/141 [==============================] - 8s 56ms/step - loss: 0.0011\n",
      "Epoch 3/50\n",
      "141/141 [==============================] - 8s 56ms/step - loss: 9.8256e-04\n",
      "Epoch 4/50\n",
      "141/141 [==============================] - 8s 56ms/step - loss: 9.2419e-04\n",
      "Epoch 5/50\n",
      "141/141 [==============================] - 8s 56ms/step - loss: 7.2125e-04\n",
      "Epoch 6/50\n",
      "141/141 [==============================] - 8s 56ms/step - loss: 8.5366e-04\n",
      "Epoch 7/50\n",
      "141/141 [==============================] - 8s 56ms/step - loss: 7.7639e-04\n",
      "Epoch 8/50\n",
      "141/141 [==============================] - 8s 56ms/step - loss: 7.7489e-04\n",
      "Epoch 9/50\n",
      "141/141 [==============================] - 8s 56ms/step - loss: 6.4067e-04\n",
      "Epoch 10/50\n",
      "141/141 [==============================] - 8s 56ms/step - loss: 5.6832e-04\n",
      "Epoch 11/50\n",
      "141/141 [==============================] - 8s 56ms/step - loss: 5.5238e-04\n",
      "Epoch 12/50\n",
      "141/141 [==============================] - 8s 56ms/step - loss: 5.1151e-04\n",
      "Epoch 13/50\n",
      "141/141 [==============================] - 8s 56ms/step - loss: 7.1460e-04\n",
      "Epoch 14/50\n",
      "141/141 [==============================] - 8s 55ms/step - loss: 5.3987e-04\n",
      "Epoch 15/50\n",
      "141/141 [==============================] - 8s 56ms/step - loss: 5.2127e-04\n",
      "Epoch 16/50\n",
      "141/141 [==============================] - 8s 56ms/step - loss: 4.3804e-04\n",
      "Epoch 17/50\n",
      "141/141 [==============================] - 8s 56ms/step - loss: 4.9214e-04\n",
      "Epoch 18/50\n",
      "141/141 [==============================] - 8s 55ms/step - loss: 4.2491e-04\n",
      "Epoch 19/50\n",
      "141/141 [==============================] - 8s 56ms/step - loss: 4.0371e-04\n",
      "Epoch 20/50\n",
      "141/141 [==============================] - 8s 55ms/step - loss: 5.2859e-04\n",
      "Epoch 21/50\n",
      "141/141 [==============================] - 8s 55ms/step - loss: 3.6612e-04\n",
      "Epoch 22/50\n",
      "141/141 [==============================] - 8s 55ms/step - loss: 4.8442e-04\n",
      "Epoch 23/50\n",
      "141/141 [==============================] - 8s 56ms/step - loss: 4.0823e-04\n",
      "Epoch 24/50\n",
      "141/141 [==============================] - 8s 56ms/step - loss: 4.7667e-04\n",
      "Epoch 25/50\n",
      "141/141 [==============================] - 8s 56ms/step - loss: 3.7000e-04\n",
      "Epoch 26/50\n",
      "141/141 [==============================] - 8s 55ms/step - loss: 4.6105e-04\n",
      "Epoch 27/50\n",
      "141/141 [==============================] - 8s 56ms/step - loss: 3.9582e-04\n",
      "Epoch 28/50\n",
      "141/141 [==============================] - 8s 56ms/step - loss: 4.3042e-04\n",
      "Epoch 29/50\n",
      "141/141 [==============================] - 8s 55ms/step - loss: 4.8981e-04\n",
      "Epoch 30/50\n",
      "141/141 [==============================] - 8s 56ms/step - loss: 4.2552e-04\n",
      "Epoch 31/50\n",
      "141/141 [==============================] - 8s 60ms/step - loss: 3.4333e-04\n",
      "Epoch 32/50\n",
      "141/141 [==============================] - 8s 57ms/step - loss: 4.5689e-04\n",
      "Epoch 33/50\n",
      "141/141 [==============================] - 8s 56ms/step - loss: 3.7325e-04\n",
      "Epoch 34/50\n",
      "141/141 [==============================] - 8s 56ms/step - loss: 3.9913e-04\n",
      "Epoch 35/50\n",
      "141/141 [==============================] - 8s 56ms/step - loss: 3.3590e-04\n",
      "Epoch 36/50\n",
      "141/141 [==============================] - 8s 56ms/step - loss: 4.3351e-04\n",
      "Epoch 37/50\n",
      "141/141 [==============================] - 8s 57ms/step - loss: 3.8581e-04\n",
      "Epoch 38/50\n",
      "141/141 [==============================] - 8s 56ms/step - loss: 3.6451e-04\n",
      "Epoch 39/50\n",
      "141/141 [==============================] - 8s 57ms/step - loss: 4.6512e-04\n",
      "Epoch 40/50\n",
      "141/141 [==============================] - 8s 56ms/step - loss: 4.4696e-04\n",
      "Epoch 41/50\n",
      "141/141 [==============================] - 8s 56ms/step - loss: 3.7509e-04\n",
      "Epoch 42/50\n",
      "141/141 [==============================] - 8s 56ms/step - loss: 4.0900e-04\n",
      "Epoch 43/50\n",
      "141/141 [==============================] - 8s 56ms/step - loss: 3.5350e-04\n",
      "Epoch 44/50\n",
      "141/141 [==============================] - 8s 56ms/step - loss: 3.6904e-04\n",
      "Epoch 45/50\n",
      "141/141 [==============================] - 8s 56ms/step - loss: 3.3791e-04\n",
      "Epoch 46/50\n",
      "141/141 [==============================] - 8s 56ms/step - loss: 3.6051e-04\n",
      "Epoch 47/50\n",
      "141/141 [==============================] - 8s 56ms/step - loss: 3.2956e-04\n",
      "Epoch 48/50\n",
      "141/141 [==============================] - 8s 56ms/step - loss: 3.7793e-04\n",
      "Epoch 49/50\n",
      "141/141 [==============================] - 8s 56ms/step - loss: 3.9858e-04\n",
      "Epoch 50/50\n",
      "141/141 [==============================] - 8s 56ms/step - loss: 3.9767e-04\n"
     ]
    }
   ],
   "source": [
    "GRU_model.compile(optimizer=tf.keras.optimizers.Adam(0.001),loss='mean_squared_error')\n",
    "history4=GRU_model.fit(X_train,y_train,epochs=50,batch_size=32)"
   ]
  },
  {
   "cell_type": "code",
   "execution_count": 165,
   "id": "690affbe",
   "metadata": {},
   "outputs": [
    {
     "name": "stdout",
     "output_type": "stream",
     "text": [
      "16/16 [==============================] - 1s 15ms/step\n"
     ]
    }
   ],
   "source": [
    "predicted_stock_price = GRU_model.predict(X_test)\n",
    "predicted_stock_price = sc.inverse_transform(predicted_stock_price)\n",
    "real_stock_price = sc.inverse_transform(test_set[60:])"
   ]
  },
  {
   "cell_type": "code",
   "execution_count": 166,
   "id": "7dbff252",
   "metadata": {},
   "outputs": [
    {
     "data": {
      "image/png": "[encoded data removed]",
      "text/plain": [
       "<Figure size 432x288 with 1 Axes>"
      ]
     },
     "metadata": {
      "needs_background": "light"
     },
     "output_type": "display_data"
    }
   ],
   "source": [
    "plt.plot(real_stock_price, color='red', label='Real Stock Price')\n",
    "plt.plot(predicted_stock_price, color='blue', label='Predicted Stock Price')\n",
    "plt.title('Stock Price Prediction')\n",
    "plt.xlabel('Time')\n",
    "plt.ylabel('Stock Price')\n",
    "plt.legend()\n",
    "plt.show()"
   ]
  },
  {
   "cell_type": "code",
   "execution_count": 167,
   "id": "04d4833f",
   "metadata": {},
   "outputs": [
    {
     "name": "stdout",
     "output_type": "stream",
     "text": [
      "mse: 1.981641\n",
      "rmse: 1.407708\n",
      "mae: 1.104697\n"
     ]
    }
   ],
   "source": [
    "import math\n",
    "#evaluate model\n",
    "mse = mean_squared_error(predicted_stock_price, real_stock_price)\n",
    "rmse = math.sqrt(mean_squared_error(predicted_stock_price, real_stock_price))\n",
    "mae = mean_absolute_error(predicted_stock_price, real_stock_price)\n",
    "print('mse: %.6f' % mse)\n",
    "print('rmse: %.6f' % rmse)\n",
    "print('mae: %.6f' % mae)"
   ]
  },
  {
   "cell_type": "code",
   "execution_count": null,
   "id": "8534c2a9",
   "metadata": {},
   "outputs": [],
   "source": []
  }
 ],
 "metadata": {
  "kernelspec": {
   "display_name": "Python 3 (ipykernel)",
   "language": "python",
   "name": "python3"
  },
  "language_info": {
   "codemirror_mode": {
    "name": "ipython",
    "version": 3
   },
   "file_extension": ".py",
   "mimetype": "text/x-python",
   "name": "python",
   "nbconvert_exporter": "python",
   "pygments_lexer": "ipython3",
   "version": "3.9.7"
  }
 },
 "nbformat": 4,
 "nbformat_minor": 5
}
